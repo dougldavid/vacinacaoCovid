{
  "nbformat": 4,
  "nbformat_minor": 0,
  "metadata": {
    "colab": {
      "name": "calculadoraDSA.ipynb",
      "provenance": [],
      "collapsed_sections": [],
      "authorship_tag": "ABX9TyP12UDGVrh9yC+/GdYcDQgl",
      "include_colab_link": true
    },
    "kernelspec": {
      "name": "python3",
      "display_name": "Python 3"
    },
    "language_info": {
      "name": "python"
    }
  },
  "cells": [
    {
      "cell_type": "markdown",
      "metadata": {
        "id": "view-in-github",
        "colab_type": "text"
      },
      "source": [
        "<a href=\"https://colab.research.google.com/github/dougldavid/vacinacaoCovid/blob/main/calculadoraDSA.ipynb\" target=\"_parent\"><img src=\"https://colab.research.google.com/assets/colab-badge.svg\" alt=\"Open In Colab\"/></a>"
      ]
    },
    {
      "cell_type": "code",
      "execution_count": null,
      "metadata": {
        "colab": {
          "base_uri": "https://localhost:8080/"
        },
        "id": "0xD04_-Q-4oU",
        "outputId": "a627b036-81af-4c31-e501-a96c08154733"
      },
      "outputs": [
        {
          "output_type": "stream",
          "name": "stdout",
          "text": [
            "Selecione o numero da opção desejada 1 - Soma 2 - Subtracao 3 - Multiplicação 4 - Divisão \n",
            "1/2/3/4 4\n",
            "digite  o primeiro valor :2\n",
            "digite  o segundo valor :1\n",
            "2.0\n"
          ]
        }
      ],
      "source": [
        "print (\n",
        "\"Selecione o numero da opção desejada 1 - Soma 2 - Subtracao 3 - Multiplicação 4 - Divisão \")\n",
        "\n",
        "operacao = int(input(\"1/2/3/4 \"))\n",
        "\n",
        "def soma (x, y):\n",
        "    resultado = x + y\n",
        "    #print (resultado)\n",
        "    return resultado\n",
        "\n",
        "def divisao (x,y):\n",
        "    resultado = x /y\n",
        "    return resultado\n",
        "\n",
        "def subtracao (x, y):\n",
        "    resultado = x - y\n",
        "    return resultado\n",
        "\n",
        "def multiplicacao (x,y):\n",
        "    resultado = x * y\n",
        "    return resultado\n",
        " \n",
        "x = int (input (\"digite  o primeiro valor :\"))\n",
        "y = int (input (\"digite  o segundo valor :\"))\n",
        "\n",
        "if  operacao == 1:\n",
        "        resultado = soma(x, y)\n",
        "        print (resultado)\n",
        "elif  operacao == 2:\n",
        "        resultado = subtracao(x, y)\n",
        "        print (resultado)\n",
        "elif operacao == 3:\n",
        "        resultado = multiplicacao(x, y)\n",
        "        print (resultado)\n",
        "else :       \n",
        "    resultado = divisao(x, y) \n",
        "    print (resultado)"
      ]
    }
  ]
}